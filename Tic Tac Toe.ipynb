{
 "cells": [
  {
   "cell_type": "code",
   "execution_count": 1,
   "metadata": {
    "collapsed": false
   },
   "outputs": [
    {
     "name": "stdout",
     "output_type": "stream",
     "text": [
      "0 | 1 | O\n",
      "--|---|--\n",
      "3 | O | X\n",
      "--|---|--\n",
      "O | X | X\n"
     ]
    },
    {
     "name": "stderr",
     "output_type": "stream",
     "text": [
      "Gracz O wygrał"
     ]
    }
   ],
   "source": [
    "import sys\n",
    "from IPython.display import clear_output #Module for clearing display\n",
    "\n",
    "def PrintTable():\n",
    "    \"\"\"Printing table\"\"\"\n",
    "    print (board[0], \"|\", board[1], \"|\", board[2])\n",
    "    print (\"--|---|--\")\n",
    "    print (board[3], \"|\", board[4], \"|\", board[5])\n",
    "    print (\"--|---|--\")\n",
    "    print (board[6], \"|\", board[7], \"|\", board[8])\n",
    "    \n",
    "\n",
    "def Input():\n",
    "    while True:\n",
    "        x = input(\"Wybierz pole\")\n",
    "        if ord(x) >=48 and ord(x) <= 57:\n",
    "            return x\n",
    "            break\n",
    "        else:\n",
    "            sys.stderr.write(\"Wrong number\")\n",
    "\n",
    "\n",
    "def check(tablica):\n",
    "    \"\"\"Checking if someone won\"\"\"\n",
    "    if board[0] == board[1] and board[1] == board[2]:\n",
    "        return True\n",
    "    elif board[3] == board[4] and board[4] == board[5]:\n",
    "        return True\n",
    "    elif board[6] == board[7] and board[7] == board[8]:\n",
    "        return True\n",
    "    elif board[0] == board[3] and board[3] == board[6]:\n",
    "        return True\n",
    "    elif board[1] == board[4] and board[4] == board[7]:\n",
    "        return True\n",
    "    elif board[2] == board[5] and board[5] == board[8]:\n",
    "        return True\n",
    "    elif board[0] == board[4] and board[4] == board[8]:\n",
    "        return True\n",
    "    elif board[6] == board[4] and board[4] == board[2]:\n",
    "        return True\n",
    "    else:\n",
    "        return False\n",
    "    \n",
    "\n",
    "def check_tie(board):\n",
    "    \"\"\"Checking if game is tied\"\"\"\n",
    "    licznik = 0\n",
    "    for i in range(len(board)):\n",
    "        if board[i] == 'X' or board[i] == 'O':\n",
    "            licznik += 1\n",
    "    if licznik == len(board):\n",
    "        return True\n",
    "    else:\n",
    "        return False\n",
    "\n",
    "    \n",
    "def check_position(board, x):\n",
    "    \"\"\"Checking if position is busy\"\"\"\n",
    "    if board[x] == 'X' or board[x] == 'O':\n",
    "        return True\n",
    "    else:\n",
    "        return False\n",
    "\n",
    "\n",
    "board = [0,1,2,3,4,5,6,7,8]\n",
    "PrintTable() \n",
    "while check(board) == False:  #Game will least until condition will be False\n",
    "    while True:\n",
    "        print (\"Player X\")\n",
    "        x = int(Input())\n",
    "        if check_position(board, x) == False:\n",
    "            board[x] = \"X\" \n",
    "            clear_output()\n",
    "            PrintTable()\n",
    "            break\n",
    "        else:\n",
    "            sys.stderr.write(\"This position is busy\")\n",
    " \n",
    "    if check(board) == True: #Checking if Player 1 won\n",
    "        sys.stderr.write(\"Gracz X wygrał\")\n",
    "        break\n",
    "        \n",
    "    if check_tie(board) == True: #Checking if game is tied\n",
    "        sys.stderr.write(\"Remis\")\n",
    "        break \n",
    "        \n",
    "    while True:\n",
    "        print (\"Player O\")\n",
    "        x = int(Input())\n",
    "        if check_position(board, x) == False:\n",
    "            board[x] = \"O\" \n",
    "            clear_output()\n",
    "            PrintTable()\n",
    "            break\n",
    "        else:\n",
    "            sys.stderr.write(\"This position is busy\")\n",
    "            \n",
    "    if check(board) == True: #Checking if Player 2 won\n",
    "        sys.stderr.write(\"Gracz O wygrał\")\n",
    "        \n",
    "    if check_tie(board) == True: #Checking if game is tied\n",
    "        sys.stderr.write(\"Remis\")"
   ]
  },
  {
   "cell_type": "code",
   "execution_count": null,
   "metadata": {
    "collapsed": false
   },
   "outputs": [],
   "source": []
  },
  {
   "cell_type": "code",
   "execution_count": null,
   "metadata": {
    "collapsed": false
   },
   "outputs": [],
   "source": []
  },
  {
   "cell_type": "code",
   "execution_count": null,
   "metadata": {
    "collapsed": true
   },
   "outputs": [],
   "source": []
  }
 ],
 "metadata": {
  "kernelspec": {
   "display_name": "Python 3",
   "language": "python",
   "name": "python3"
  },
  "language_info": {
   "codemirror_mode": {
    "name": "ipython",
    "version": 3
   },
   "file_extension": ".py",
   "mimetype": "text/x-python",
   "name": "python",
   "nbconvert_exporter": "python",
   "pygments_lexer": "ipython3",
   "version": "3.6.3"
  }
 },
 "nbformat": 4,
 "nbformat_minor": 2
}
