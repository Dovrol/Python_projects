{
 "cells": [
  {
   "cell_type": "code",
   "execution_count": null,
   "metadata": {
    "collapsed": false
   },
   "outputs": [
    {
     "name": "stderr",
     "output_type": "stream",
     "text": [
      "You Won"
     ]
    },
    {
     "name": "stdout",
     "output_type": "stream",
     "text": [
      "Your cards wiktor :\n",
      "['7 Clubs', '6 Heart', '8 Spades'] \n",
      "\n",
      "Dealer Cards: \n",
      "['5 Spades', '9 Clubs', '8 Clubs'] \n",
      "\n",
      "Your account:  200\n",
      "choose your bet, max: 200\n"
     ]
    }
   ],
   "source": [
    "import sys\n",
    "from IPython.display import clear_output\n",
    "import random\n",
    "class Player(object):\n",
    "    \n",
    "    def __init__(self, name, account = 100):\n",
    "        self.account = account\n",
    "        self.name = name\n",
    "    \n",
    "    def add(self, x):\n",
    "        self.account += x\n",
    "    \n",
    "    def subtract(self, y):\n",
    "        self.account -= y\n",
    "    \n",
    "    \n",
    "\n",
    "class Deck(object):\n",
    "    \n",
    "    deck = {\"2 Heart\" : [2,1], \"3 Heart\" : [3,1], \"4 Heart\" : [4,1], \"5 Heart\" : [5,1], \"6 Heart\" : [6,1], \"7 Heart\" : [7,1], \"8 Heart\" : [8,1], \"9 Heart\" : [9,1], \"10 Heart\" : [10,1], \"King Heart\" : [10,1], \"Queen Heart\" : [10,1], \"J Heart\" : [10,1], \"As Heart\" : [11,1], \"2 Diamonds\" : [2,1], \"3 Diamonds\" : [3,1], \"4 Diamonds\" : [4,1], \"5 Heart\" : [5,1], \"6 Diamonds\" : [6,1], \"7 Diamonds\" : [7,1], \"8 Diamonds\" : [8,1], \"9 Diamonds\" : [9,1], \"10 Diamonds\" : [10,1], \"King Diamonds\" : [10,1], \"Queen Diamonds\" : [10,1], \"Jack Diamonds\" : [10,1], \"As Diamonds\" : [11,1], \"2 Spades\" : [2,1], \"3 Spades\" : [3,1], \"4 Spades\" : [4,1], \"5 Spades\" : [5,1], \"6 Spades\" : [6,1], \"7 Spades\" : [7,1], \"8 Spades\" : [8,1], \"9 Spades\" : [9,1], \"10 Spades\" : [10,1], \"King Spades\" : [10,1], \"Queen Spades\" : [10,1], \"Jack Spades\" : [10,1], \"As Spades\" : [11,1], \"2 Clubs\" : [2,1], \"3 Clubs\" : [3,1], \"4 Clubs\" : [4,1], \"5 Clubs\" : [5,1], \"6 Clubs\" : [6,1], \"7 Clubs\" : [7,1], \"8 Clubs\" : [8,1], \"9 Clubs\" : [9,1], \"10 Clubs\" : [10,1], \"King Clubs\" : [10,1], \"Queen Clubs\" : [10,1], \"Jack Clubs\" : [10,1], \"As Clubs\" : [11,1]}\n",
    "\n",
    "    def __init__(self, list_of_cards = []):\n",
    "        self.list_of_cards = list_of_cards\n",
    "        \n",
    "    def starting_hand(self):\n",
    "        i = 0\n",
    "        while i < 2:\n",
    "            x = random.choice(list(Deck.deck))\n",
    "            if Deck.deck[x][1] == 1:\n",
    "                self.list_of_cards.append(x)\n",
    "                Deck.deck[x][1] -= 1\n",
    "                i+= 1\n",
    "            else:\n",
    "                continue\n",
    "            \n",
    "    def add_card_to_hand(self):\n",
    "        while True:\n",
    "            x = random.choice(list(Deck.deck))\n",
    "            if Deck.deck[x][1] == 1:\n",
    "                self.list_of_cards.append(x)\n",
    "                Deck.deck[x][1] -= 1\n",
    "                break\n",
    "            else:\n",
    "                continue\n",
    "                \n",
    "    def cards_value(self, lista):\n",
    "        value = 0\n",
    "        for i in range(len(lista)):\n",
    "            value = value + Deck.deck[lista[i]][0]\n",
    "        return value\n",
    "\n",
    "        \n",
    "\n",
    "p1 = Player(input(\"Enter your name\"))\n",
    "dealer = Player(\"Dealer\")\n",
    "clear_output()\n",
    "print (\"Hello\", p1.name)\n",
    "\n",
    "while True:\n",
    "    print(\"choose your bet, max:\", p1.account)\n",
    "    bet = input(\"\")\n",
    "    p1.subtract(int(bet))\n",
    "    clear_output()\n",
    "    \n",
    "    \n",
    "    talia_dealera = []\n",
    "    talia_gracza = []\n",
    "    clear_output()\n",
    "    dealer_hand = Deck(talia_dealera)\n",
    "    p1_hand = Deck(talia_gracza)\n",
    "    \n",
    "    print (\"Your cards\", p1.name,\":\")\n",
    "    dealer_hand.add_card_to_hand()\n",
    "    p1_hand.starting_hand()\n",
    "    print (p1_hand.list_of_cards)\n",
    "    print (\"Your cards value = \", p1_hand.cards_value(p1_hand.list_of_cards), \"\\n\")\n",
    "\n",
    "    while p1_hand.cards_value(p1_hand.list_of_cards) <= 21:\n",
    "        print (\"Dealer Cards: \")\n",
    "        print(dealer_hand.list_of_cards)\n",
    "        print(\"Dealer cards value: \", dealer_hand.cards_value(dealer_hand.list_of_cards), \"\\n\")\n",
    "        print (\"What do you want to do ?\\n Hit or Stay\")\n",
    "        decision  = input(\"\")\n",
    "        clear_output()\n",
    "        if decision == \"Hit\" or decision == \"hit\":\n",
    "            p1_hand.add_card_to_hand()\n",
    "            print (p1_hand.list_of_cards)\n",
    "            print (\"Your cards value = \", p1_hand.cards_value(p1_hand.list_of_cards), \"\\n\")\n",
    "        elif decision == \"Stay\" or decision == \"stay\":\n",
    "            break\n",
    "\n",
    "    if p1_hand.cards_value(p1_hand.list_of_cards) > 21:\n",
    "        sys.stderr.write(\"BUSTED\")   \n",
    "        print (\"Your account: \", p1.account)\n",
    "\n",
    "    else:        \n",
    "\n",
    "        print (\"Your cards\", p1.name,\":\")\n",
    "        print (p1_hand.list_of_cards,\"\\n\")\n",
    "\n",
    "        while dealer_hand.cards_value(dealer_hand.list_of_cards) < 17:\n",
    "            dealer_hand.add_card_to_hand()\n",
    "\n",
    "        print (\"Dealer Cards: \")\n",
    "        print(dealer_hand.list_of_cards, \"\\n\")\n",
    "\n",
    "        if dealer_hand.cards_value(dealer_hand.list_of_cards) > 21:\n",
    "            sys.stderr.write(\"You Won\")\n",
    "            p1.add(int(bet) * 2)\n",
    "            print (\"Your account: \", p1.account)\n",
    "                    \n",
    "        elif p1_hand.cards_value(p1_hand.list_of_cards) == dealer_hand.cards_value(dealer_hand.list_of_cards):\n",
    "            sys.stderr.write(\"DRAW\")\n",
    "            p1.add(int(bet))\n",
    "            print (\"Your account: \", p1.account)\n",
    "        elif dealer_hand.cards_value(dealer_hand.list_of_cards) <=21:\n",
    "            if p1_hand.cards_value(p1_hand.list_of_cards) > dealer_hand.cards_value(dealer_hand.list_of_cards):\n",
    "                sys.stderr.write(\"You Won\")\n",
    "                p1.add(int(bet) * 2)\n",
    "                print (\"Your account: \", p1.account)\n",
    "            else:\n",
    "                sys.stderr.write(\"You Lost\")\n",
    "                print (\"Your account: \", p1.account)\n",
    "    if input(\"Play again y/n?\") == 'n':\n",
    "        break\n"
   ]
  },
  {
   "cell_type": "code",
   "execution_count": null,
   "metadata": {
    "collapsed": false
   },
   "outputs": [],
   "source": []
  },
  {
   "cell_type": "code",
   "execution_count": null,
   "metadata": {
    "collapsed": false
   },
   "outputs": [],
   "source": []
  },
  {
   "cell_type": "code",
   "execution_count": null,
   "metadata": {
    "collapsed": false
   },
   "outputs": [],
   "source": []
  },
  {
   "cell_type": "code",
   "execution_count": null,
   "metadata": {
    "collapsed": false
   },
   "outputs": [],
   "source": []
  },
  {
   "cell_type": "code",
   "execution_count": null,
   "metadata": {
    "collapsed": true
   },
   "outputs": [],
   "source": []
  },
  {
   "cell_type": "code",
   "execution_count": null,
   "metadata": {
    "collapsed": true
   },
   "outputs": [],
   "source": []
  }
 ],
 "metadata": {
  "kernelspec": {
   "display_name": "Python 3",
   "language": "python",
   "name": "python3"
  },
  "language_info": {
   "codemirror_mode": {
    "name": "ipython",
    "version": 3
   },
   "file_extension": ".py",
   "mimetype": "text/x-python",
   "name": "python",
   "nbconvert_exporter": "python",
   "pygments_lexer": "ipython3",
   "version": "3.6.3"
  }
 },
 "nbformat": 4,
 "nbformat_minor": 2
}
